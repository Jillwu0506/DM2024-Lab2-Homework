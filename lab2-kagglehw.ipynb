{
 "cells": [
  {
   "attachments": {
    "608bfc77-1c65-4576-8bbd-09e406425af3.png": {
     "image/png": "[encoded data removed]"
    }
   },
   "cell_type": "markdown",
   "id": "26824407",
   "metadata": {
    "papermill": {
     "duration": 0.007121,
     "end_time": "2024-12-08T13:46:13.083788",
     "exception": false,
     "start_time": "2024-12-08T13:46:13.076667",
     "status": "completed"
    },
    "tags": []
   },
   "source": [
    "### Student Information\n",
    "Name: 吳文婷\n",
    "\n",
    "Student ID: d301111002  \n",
    "\n",
    "GitHu ID: Jillwu0506  \n",
    "\n",
    "Kaggl name: JillwuTMU\n",
    "\n",
    "Kaggle private scoreboard snapshot:\n",
    "![image.png](attachment:608bfc77-1c65-4576-8bbd-09e406425af3.png)\n"
   ]
  },
  {
   "cell_type": "code",
   "execution_count": 1,
   "id": "e713d4e3",
   "metadata": {
    "execution": {
     "iopub.execute_input": "2024-12-08T13:46:13.098093Z",
     "iopub.status.busy": "2024-12-08T13:46:13.097571Z",
     "iopub.status.idle": "2024-12-08T13:46:16.600308Z",
     "shell.execute_reply": "2024-12-08T13:46:16.599083Z"
    },
    "papermill": {
     "duration": 3.513271,
     "end_time": "2024-12-08T13:46:16.603275",
     "exception": false,
     "start_time": "2024-12-08T13:46:13.090004",
     "status": "completed"
    },
    "tags": []
   },
   "outputs": [],
   "source": [
    "import json\n",
    "import pandas as pd\n",
    "import numpy as np\n",
    "import nltk\n",
    "import matplotlib.pyplot as plt\n",
    "from collections import Counter\n",
    "\n",
    "from sklearn.feature_extraction.text import TfidfVectorizer\n",
    "from sklearn.model_selection import train_test_split\n",
    "from sklearn.preprocessing import LabelEncoder\n",
    "from sklearn.linear_model import LogisticRegression\n",
    "from sklearn.ensemble import RandomForestClassifier\n",
    "from sklearn.metrics import classification_report"
   ]
  },
  {
   "cell_type": "markdown",
   "id": "42c98f41",
   "metadata": {
    "papermill": {
     "duration": 0.007317,
     "end_time": "2024-12-08T13:46:16.617441",
     "exception": false,
     "start_time": "2024-12-08T13:46:16.610124",
     "status": "completed"
    },
    "tags": []
   },
   "source": [
    "## **Data Preparation** "
   ]
  },
  {
   "cell_type": "code",
   "execution_count": 2,
   "id": "abfb3ca6",
   "metadata": {
    "execution": {
     "iopub.execute_input": "2024-12-08T13:46:16.631761Z",
     "iopub.status.busy": "2024-12-08T13:46:16.631218Z",
     "iopub.status.idle": "2024-12-08T13:46:58.461147Z",
     "shell.execute_reply": "2024-12-08T13:46:58.459212Z"
    },
    "papermill": {
     "duration": 41.842243,
     "end_time": "2024-12-08T13:46:58.465762",
     "exception": false,
     "start_time": "2024-12-08T13:46:16.623519",
     "status": "completed"
    },
    "tags": []
   },
   "outputs": [],
   "source": [
    "# Read data from kaggle dataset\n",
    "data = []\n",
    "with open('/kaggle/input/dm-2024-isa-5810-lab-2-homework/tweets_DM.json', 'r') as f:\n",
    "    for line in f:\n",
    "        data.append(json.loads(line))\n",
    " \n",
    "f.close()\n",
    "\n",
    "emotion = pd.read_csv('/kaggle/input/dm-2024-isa-5810-lab-2-homework/emotion.csv')\n",
    "data_identification = pd.read_csv('/kaggle/input/dm-2024-isa-5810-lab-2-homework/data_identification.csv')"
   ]
  },
  {
   "cell_type": "code",
   "execution_count": 3,
   "id": "d26fee90",
   "metadata": {
    "execution": {
     "iopub.execute_input": "2024-12-08T13:46:58.489459Z",
     "iopub.status.busy": "2024-12-08T13:46:58.487683Z",
     "iopub.status.idle": "2024-12-08T13:47:12.915604Z",
     "shell.execute_reply": "2024-12-08T13:47:12.914341Z"
    },
    "papermill": {
     "duration": 14.442888,
     "end_time": "2024-12-08T13:47:12.918614",
     "exception": false,
     "start_time": "2024-12-08T13:46:58.475726",
     "status": "completed"
    },
    "tags": []
   },
   "outputs": [],
   "source": [
    "# data transformation\n",
    "df = pd.DataFrame(data)\n",
    "_source = df['_source'].apply(lambda x: x['tweet'])\n",
    "df = pd.DataFrame({\n",
    "    'tweet_id': _source.apply(lambda x: x['tweet_id']),\n",
    "    'hashtags': _source.apply(lambda x: x['hashtags']),\n",
    "    'text': _source.apply(lambda x: x['text']),\n",
    "})\n",
    "df = df.merge(data_identification, on='tweet_id', how='left')\n",
    "\n",
    "# split data to train and test\n",
    "train_data = df[df['identification'] == 'train']\n",
    "test_data = df[df['identification'] == 'test']\n",
    "\n",
    "# drop the identification column\n",
    "train_data = train_data.drop(columns=['identification'])\n",
    "test_data = test_data.drop(columns=['identification'])\n",
    "\n",
    "# Merge emotion for corresponding tweet_id\n",
    "train_data = train_data.merge(emotion, on='tweet_id', how='left') "
   ]
  },
  {
   "cell_type": "code",
   "execution_count": 4,
   "id": "f1cd3116",
   "metadata": {
    "execution": {
     "iopub.execute_input": "2024-12-08T13:47:12.934062Z",
     "iopub.status.busy": "2024-12-08T13:47:12.933569Z",
     "iopub.status.idle": "2024-12-08T13:47:13.078453Z",
     "shell.execute_reply": "2024-12-08T13:47:13.076634Z"
    },
    "papermill": {
     "duration": 0.155807,
     "end_time": "2024-12-08T13:47:13.081296",
     "exception": false,
     "start_time": "2024-12-08T13:47:12.925489",
     "status": "completed"
    },
    "tags": []
   },
   "outputs": [
    {
     "name": "stdout",
     "output_type": "stream",
     "text": [
      "(1455563, 4)\n",
      "tweet_id    object\n",
      "hashtags    object\n",
      "text        object\n",
      "emotion     object\n",
      "dtype: object\n",
      "emotion\n",
      "joy             516017\n",
      "anticipation    248935\n",
      "trust           205478\n",
      "sadness         193437\n",
      "disgust         139101\n",
      "fear             63999\n",
      "surprise         48729\n",
      "anger            39867\n",
      "Name: count, dtype: int64\n"
     ]
    },
    {
     "data": {
      "text/html": [
       "<div>\n",
       "<style scoped>\n",
       "    .dataframe tbody tr th:only-of-type {\n",
       "        vertical-align: middle;\n",
       "    }\n",
       "\n",
       "    .dataframe tbody tr th {\n",
       "        vertical-align: top;\n",
       "    }\n",
       "\n",
       "    .dataframe thead th {\n",
       "        text-align: right;\n",
       "    }\n",
       "</style>\n",
       "<table border=\"1\" class=\"dataframe\">\n",
       "  <thead>\n",
       "    <tr style=\"text-align: right;\">\n",
       "      <th></th>\n",
       "      <th>tweet_id</th>\n",
       "      <th>hashtags</th>\n",
       "      <th>text</th>\n",
       "      <th>emotion</th>\n",
       "    </tr>\n",
       "  </thead>\n",
       "  <tbody>\n",
       "    <tr>\n",
       "      <th>0</th>\n",
       "      <td>0x376b20</td>\n",
       "      <td>[Snapchat]</td>\n",
       "      <td>People who post \"add me on #Snapchat\" must be ...</td>\n",
       "      <td>anticipation</td>\n",
       "    </tr>\n",
       "    <tr>\n",
       "      <th>1</th>\n",
       "      <td>0x2d5350</td>\n",
       "      <td>[freepress, TrumpLegacy, CNN]</td>\n",
       "      <td>@brianklaas As we see, Trump is dangerous to #...</td>\n",
       "      <td>sadness</td>\n",
       "    </tr>\n",
       "    <tr>\n",
       "      <th>2</th>\n",
       "      <td>0x1cd5b0</td>\n",
       "      <td>[]</td>\n",
       "      <td>Now ISSA is stalking Tasha 😂😂😂 &lt;LH&gt;</td>\n",
       "      <td>fear</td>\n",
       "    </tr>\n",
       "    <tr>\n",
       "      <th>3</th>\n",
       "      <td>0x1d755c</td>\n",
       "      <td>[authentic, LaughOutLoud]</td>\n",
       "      <td>@RISKshow @TheKevinAllison Thx for the BEST TI...</td>\n",
       "      <td>joy</td>\n",
       "    </tr>\n",
       "    <tr>\n",
       "      <th>4</th>\n",
       "      <td>0x2c91a8</td>\n",
       "      <td>[]</td>\n",
       "      <td>Still waiting on those supplies Liscus. &lt;LH&gt;</td>\n",
       "      <td>anticipation</td>\n",
       "    </tr>\n",
       "  </tbody>\n",
       "</table>\n",
       "</div>"
      ],
      "text/plain": [
       "   tweet_id                       hashtags  \\\n",
       "0  0x376b20                     [Snapchat]   \n",
       "1  0x2d5350  [freepress, TrumpLegacy, CNN]   \n",
       "2  0x1cd5b0                             []   \n",
       "3  0x1d755c      [authentic, LaughOutLoud]   \n",
       "4  0x2c91a8                             []   \n",
       "\n",
       "                                                text       emotion  \n",
       "0  People who post \"add me on #Snapchat\" must be ...  anticipation  \n",
       "1  @brianklaas As we see, Trump is dangerous to #...       sadness  \n",
       "2                Now ISSA is stalking Tasha 😂😂😂 <LH>          fear  \n",
       "3  @RISKshow @TheKevinAllison Thx for the BEST TI...           joy  \n",
       "4       Still waiting on those supplies Liscus. <LH>  anticipation  "
      ]
     },
     "execution_count": 4,
     "metadata": {},
     "output_type": "execute_result"
    }
   ],
   "source": [
    "# print information\n",
    "print(train_data.shape)\n",
    "print(train_data.dtypes)\n",
    "print(train_data['emotion'].value_counts())\n",
    "train_data.head()"
   ]
  },
  {
   "cell_type": "code",
   "execution_count": 5,
   "id": "055e1160",
   "metadata": {
    "execution": {
     "iopub.execute_input": "2024-12-08T13:47:13.096818Z",
     "iopub.status.busy": "2024-12-08T13:47:13.096339Z",
     "iopub.status.idle": "2024-12-08T13:47:13.115643Z",
     "shell.execute_reply": "2024-12-08T13:47:13.114297Z"
    },
    "papermill": {
     "duration": 0.03034,
     "end_time": "2024-12-08T13:47:13.118460",
     "exception": false,
     "start_time": "2024-12-08T13:47:13.088120",
     "status": "completed"
    },
    "tags": []
   },
   "outputs": [
    {
     "name": "stdout",
     "output_type": "stream",
     "text": [
      "(411972, 3)\n",
      "tweet_id    object\n",
      "hashtags    object\n",
      "text        object\n",
      "dtype: object\n"
     ]
    },
    {
     "data": {
      "text/html": [
       "<div>\n",
       "<style scoped>\n",
       "    .dataframe tbody tr th:only-of-type {\n",
       "        vertical-align: middle;\n",
       "    }\n",
       "\n",
       "    .dataframe tbody tr th {\n",
       "        vertical-align: top;\n",
       "    }\n",
       "\n",
       "    .dataframe thead th {\n",
       "        text-align: right;\n",
       "    }\n",
       "</style>\n",
       "<table border=\"1\" class=\"dataframe\">\n",
       "  <thead>\n",
       "    <tr style=\"text-align: right;\">\n",
       "      <th></th>\n",
       "      <th>tweet_id</th>\n",
       "      <th>hashtags</th>\n",
       "      <th>text</th>\n",
       "    </tr>\n",
       "  </thead>\n",
       "  <tbody>\n",
       "    <tr>\n",
       "      <th>2</th>\n",
       "      <td>0x28b412</td>\n",
       "      <td>[bibleverse]</td>\n",
       "      <td>Confident of your obedience, I write to you, k...</td>\n",
       "    </tr>\n",
       "    <tr>\n",
       "      <th>4</th>\n",
       "      <td>0x2de201</td>\n",
       "      <td>[]</td>\n",
       "      <td>\"Trust is not the same as faith. A friend is s...</td>\n",
       "    </tr>\n",
       "    <tr>\n",
       "      <th>9</th>\n",
       "      <td>0x218443</td>\n",
       "      <td>[materialism, money, possessions]</td>\n",
       "      <td>When do you have enough ? When are you satisfi...</td>\n",
       "    </tr>\n",
       "    <tr>\n",
       "      <th>30</th>\n",
       "      <td>0x2939d5</td>\n",
       "      <td>[GodsPlan, GodsWork]</td>\n",
       "      <td>God woke you up, now chase the day #GodsPlan #...</td>\n",
       "    </tr>\n",
       "    <tr>\n",
       "      <th>33</th>\n",
       "      <td>0x26289a</td>\n",
       "      <td>[]</td>\n",
       "      <td>In these tough times, who do YOU turn to as yo...</td>\n",
       "    </tr>\n",
       "  </tbody>\n",
       "</table>\n",
       "</div>"
      ],
      "text/plain": [
       "    tweet_id                           hashtags  \\\n",
       "2   0x28b412                       [bibleverse]   \n",
       "4   0x2de201                                 []   \n",
       "9   0x218443  [materialism, money, possessions]   \n",
       "30  0x2939d5               [GodsPlan, GodsWork]   \n",
       "33  0x26289a                                 []   \n",
       "\n",
       "                                                 text  \n",
       "2   Confident of your obedience, I write to you, k...  \n",
       "4   \"Trust is not the same as faith. A friend is s...  \n",
       "9   When do you have enough ? When are you satisfi...  \n",
       "30  God woke you up, now chase the day #GodsPlan #...  \n",
       "33  In these tough times, who do YOU turn to as yo...  "
      ]
     },
     "execution_count": 5,
     "metadata": {},
     "output_type": "execute_result"
    }
   ],
   "source": [
    "# print information\n",
    "print(test_data.shape)\n",
    "print(test_data.dtypes)\n",
    "test_data.head()"
   ]
  },
  {
   "cell_type": "markdown",
   "id": "967b27d9",
   "metadata": {
    "papermill": {
     "duration": 0.006578,
     "end_time": "2024-12-08T13:47:13.131977",
     "exception": false,
     "start_time": "2024-12-08T13:47:13.125399",
     "status": "completed"
    },
    "tags": []
   },
   "source": [
    "## **Preprocessing**"
   ]
  },
  {
   "cell_type": "code",
   "execution_count": 6,
   "id": "814facf9",
   "metadata": {
    "execution": {
     "iopub.execute_input": "2024-12-08T13:47:13.147853Z",
     "iopub.status.busy": "2024-12-08T13:47:13.147389Z",
     "iopub.status.idle": "2024-12-08T13:47:13.961790Z",
     "shell.execute_reply": "2024-12-08T13:47:13.960368Z"
    },
    "papermill": {
     "duration": 0.825858,
     "end_time": "2024-12-08T13:47:13.964532",
     "exception": false,
     "start_time": "2024-12-08T13:47:13.138674",
     "status": "completed"
    },
    "tags": []
   },
   "outputs": [
    {
     "name": "stdout",
     "output_type": "stream",
     "text": [
      "tweet_id    {'Missing Values': 0, 'Total Count': 1455563, ...\n",
      "hashtags    {'Missing Values': 0, 'Total Count': 1455563, ...\n",
      "text        {'Missing Values': 0, 'Total Count': 1455563, ...\n",
      "emotion     {'Missing Values': 0, 'Total Count': 1455563, ...\n",
      "dtype: object\n",
      "tweet_id    {'Missing Values': 0, 'Total Count': 411972, '...\n",
      "hashtags    {'Missing Values': 0, 'Total Count': 411972, '...\n",
      "text        {'Missing Values': 0, 'Total Count': 411972, '...\n",
      "dtype: object\n"
     ]
    }
   ],
   "source": [
    "# Dealing with Missing data\n",
    "def check_missing_values(series):\n",
    "    \"\"\"\n",
    "    Check missing values in a Series\n",
    "    \n",
    "    Args:\n",
    "        series: pandas Series object\n",
    "        \n",
    "    Returns:\n",
    "        dict: dictionary containing missing value statistics\n",
    "    \"\"\"\n",
    "    missing_count = series.isnull().sum()\n",
    "    total_count = len(series)\n",
    "    missing_percentage = (missing_count / total_count) * 100\n",
    "    \n",
    "    return {\n",
    "        'Missing Values': missing_count,\n",
    "        'Total Count': total_count,\n",
    "        'Missing Percentage(%)': round(missing_percentage, 2)\n",
    "    }\n",
    "\n",
    "# Check missing values for each column\n",
    "missing_train = train_data.apply(check_missing_values)\n",
    "missing_test = test_data.apply(check_missing_values)\n",
    "\n",
    "print(missing_train)\n",
    "print(missing_test)"
   ]
  },
  {
   "cell_type": "code",
   "execution_count": 7,
   "id": "66fab4c8",
   "metadata": {
    "execution": {
     "iopub.execute_input": "2024-12-08T13:47:13.980870Z",
     "iopub.status.busy": "2024-12-08T13:47:13.980444Z",
     "iopub.status.idle": "2024-12-08T13:47:15.399661Z",
     "shell.execute_reply": "2024-12-08T13:47:15.398411Z"
    },
    "papermill": {
     "duration": 1.431128,
     "end_time": "2024-12-08T13:47:15.402772",
     "exception": false,
     "start_time": "2024-12-08T13:47:13.971644",
     "status": "completed"
    },
    "tags": []
   },
   "outputs": [],
   "source": [
    "#Dealing with Duplicate Data\n",
    "sum(train_data.duplicated('text')) \n",
    "train_data.drop_duplicates(subset=['text'], keep=False, inplace=True) # Remove duplication = 1449182"
   ]
  },
  {
   "cell_type": "code",
   "execution_count": 8,
   "id": "18968600",
   "metadata": {
    "execution": {
     "iopub.execute_input": "2024-12-08T13:47:15.418911Z",
     "iopub.status.busy": "2024-12-08T13:47:15.418511Z",
     "iopub.status.idle": "2024-12-08T13:47:27.649451Z",
     "shell.execute_reply": "2024-12-08T13:47:27.647535Z"
    },
    "papermill": {
     "duration": 12.242158,
     "end_time": "2024-12-08T13:47:27.652194",
     "exception": false,
     "start_time": "2024-12-08T13:47:15.410036",
     "status": "completed"
    },
    "tags": []
   },
   "outputs": [
    {
     "name": "stdout",
     "output_type": "stream",
     "text": [
      "Requirement already satisfied: emoji in /opt/conda/lib/python3.10/site-packages (2.14.0)\r\n",
      "Note: you may need to restart the kernel to use updated packages.\n"
     ]
    }
   ],
   "source": [
    "pip install emoji\n"
   ]
  },
  {
   "cell_type": "code",
   "execution_count": 9,
   "id": "fec21c3d",
   "metadata": {
    "execution": {
     "iopub.execute_input": "2024-12-08T13:47:27.670334Z",
     "iopub.status.busy": "2024-12-08T13:47:27.669769Z",
     "iopub.status.idle": "2024-12-08T13:51:35.230111Z",
     "shell.execute_reply": "2024-12-08T13:51:35.228702Z"
    },
    "papermill": {
     "duration": 247.573273,
     "end_time": "2024-12-08T13:51:35.233414",
     "exception": false,
     "start_time": "2024-12-08T13:47:27.660141",
     "status": "completed"
    },
    "tags": []
   },
   "outputs": [
    {
     "name": "stdout",
     "output_type": "stream",
     "text": [
      "[nltk_data] Downloading package punkt to /usr/share/nltk_data...\n",
      "[nltk_data]   Package punkt is already up-to-date!\n",
      "[nltk_data] Downloading package stopwords to /usr/share/nltk_data...\n",
      "[nltk_data]   Package stopwords is already up-to-date!\n"
     ]
    }
   ],
   "source": [
    "# Clean and standardize text\n",
    "import re\n",
    "import emoji\n",
    "import nltk\n",
    "from nltk.tokenize import word_tokenize\n",
    "from nltk.corpus import stopwords\n",
    "nltk.download('punkt')\n",
    "nltk.download('stopwords')\n",
    "\n",
    "def clean_text(text):\n",
    "    \"\"\"\n",
    "    Clean and standardize text\n",
    "    \"\"\"\n",
    "    #switch emoji to text\n",
    "    text = emoji.demojize(text, delimiters=[\":\", \":\"])\n",
    "    # Convert to lowercase\n",
    "    text = str(text).lower()\n",
    "    # Remove URLs\n",
    "    text = re.sub(r'http\\S+|www\\S+|https\\S+', '', text)\n",
    "    # Remove @mentions\n",
    "    text = re.sub(r'@\\w+', '', text)\n",
    "    # Remove special characters and numbers\n",
    "    text = re.sub(r'[^\\w\\s_]', '', text)\n",
    "    text = re.sub(r'\\d+', '', text)\n",
    "    # Remove extra whitespace\n",
    "    text = re.sub(r'\\s+', ' ', text).strip()\n",
    "    return text\n",
    "\n",
    "def preprocess_data(df):\n",
    "    \"\"\"\n",
    "    Preprocess both text and hashtags using the same cleaning function\n",
    "    \"\"\"\n",
    "    # Clean text\n",
    "    df['cleaned_text'] = df['text'].apply(clean_text)\n",
    "    \n",
    "    # Clean hashtags - convert list to string and clean\n",
    "    df['cleaned_hashtags'] = df['hashtags'].apply(lambda x: clean_text(' '.join(x) if isinstance(x, list) else ''))\n",
    "    \n",
    "    # Combine text and hashtags\n",
    "    df['combined_text'] = df.apply(lambda x: \n",
    "        x['cleaned_text'] + ' ' + x['cleaned_hashtags'], axis=1)\n",
    "    \n",
    "    return df\n",
    "\n",
    "processed_train = preprocess_data(train_data)\n",
    "processed_test = preprocess_data(test_data)"
   ]
  },
  {
   "cell_type": "code",
   "execution_count": 10,
   "id": "4b874b08",
   "metadata": {
    "execution": {
     "iopub.execute_input": "2024-12-08T13:51:35.251443Z",
     "iopub.status.busy": "2024-12-08T13:51:35.250918Z",
     "iopub.status.idle": "2024-12-08T13:51:35.649525Z",
     "shell.execute_reply": "2024-12-08T13:51:35.648177Z"
    },
    "papermill": {
     "duration": 0.410738,
     "end_time": "2024-12-08T13:51:35.652466",
     "exception": false,
     "start_time": "2024-12-08T13:51:35.241728",
     "status": "completed"
    },
    "tags": []
   },
   "outputs": [
    {
     "data": {
      "text/plain": [
       "(144918, 7)"
      ]
     },
     "execution_count": 10,
     "metadata": {},
     "output_type": "execute_result"
    }
   ],
   "source": [
    "#Sampling Only using 10% of data \n",
    "train_data_sample = processed_train.sample(frac=0.1) # Get sample\n",
    "train_data_sample.shape"
   ]
  },
  {
   "cell_type": "markdown",
   "id": "b4e7e410",
   "metadata": {
    "papermill": {
     "duration": 0.007031,
     "end_time": "2024-12-08T13:51:35.667217",
     "exception": false,
     "start_time": "2024-12-08T13:51:35.660186",
     "status": "completed"
    },
    "tags": []
   },
   "source": [
    "## **Feature engineering**"
   ]
  },
  {
   "cell_type": "markdown",
   "id": "aa987068",
   "metadata": {
    "papermill": {
     "duration": 0.007091,
     "end_time": "2024-12-08T13:51:35.681558",
     "exception": false,
     "start_time": "2024-12-08T13:51:35.674467",
     "status": "completed"
    },
    "tags": []
   },
   "source": [
    "**BOW**"
   ]
  },
  {
   "cell_type": "code",
   "execution_count": 11,
   "id": "f138fbe4",
   "metadata": {
    "execution": {
     "iopub.execute_input": "2024-12-08T13:51:35.698161Z",
     "iopub.status.busy": "2024-12-08T13:51:35.697642Z",
     "iopub.status.idle": "2024-12-08T13:52:16.861437Z",
     "shell.execute_reply": "2024-12-08T13:52:16.860171Z"
    },
    "papermill": {
     "duration": 41.187834,
     "end_time": "2024-12-08T13:52:16.876652",
     "exception": false,
     "start_time": "2024-12-08T13:51:35.688818",
     "status": "completed"
    },
    "tags": []
   },
   "outputs": [
    {
     "name": "stderr",
     "output_type": "stream",
     "text": [
      "/opt/conda/lib/python3.10/site-packages/sklearn/feature_extraction/text.py:528: UserWarning: The parameter 'token_pattern' will not be used since 'tokenizer' is not None'\n",
      "  warnings.warn(\n"
     ]
    },
    {
     "data": {
      "text/plain": [
       "(144918, 500)"
      ]
     },
     "execution_count": 11,
     "metadata": {},
     "output_type": "execute_result"
    }
   ],
   "source": [
    "from sklearn.feature_extraction.text import CountVectorizer\n",
    "\n",
    "# build analyzers (bag-of-words)\n",
    "BOW_500 = CountVectorizer(max_features=500, tokenizer=nltk.word_tokenize) \n",
    "\n",
    "# apply analyzer to training data\n",
    "BOW_500.fit(train_data_sample['combined_text'])\n",
    "train_data_BOW_features_500 = BOW_500.transform(train_data_sample['combined_text'])\n",
    "\n",
    "## check dimension\n",
    "train_data_BOW_features_500.shape"
   ]
  },
  {
   "cell_type": "markdown",
   "id": "27acb0e7",
   "metadata": {
    "papermill": {
     "duration": 0.007954,
     "end_time": "2024-12-08T13:52:16.896004",
     "exception": false,
     "start_time": "2024-12-08T13:52:16.888050",
     "status": "completed"
    },
    "tags": []
   },
   "source": [
    "### **Prepare train data and one hot encoding**"
   ]
  },
  {
   "cell_type": "code",
   "execution_count": 12,
   "id": "5a9084c0",
   "metadata": {
    "execution": {
     "iopub.execute_input": "2024-12-08T13:52:16.914354Z",
     "iopub.status.busy": "2024-12-08T13:52:16.913778Z",
     "iopub.status.idle": "2024-12-08T13:52:17.028987Z",
     "shell.execute_reply": "2024-12-08T13:52:17.027466Z"
    },
    "papermill": {
     "duration": 0.127645,
     "end_time": "2024-12-08T13:52:17.031739",
     "exception": false,
     "start_time": "2024-12-08T13:52:16.904094",
     "status": "completed"
    },
    "tags": []
   },
   "outputs": [
    {
     "name": "stdout",
     "output_type": "stream",
     "text": [
      "X_train.shape:  (101442, 500)\n",
      "y_train.shape:  (101442,)\n",
      "X_test.shape:  (43476, 500)\n",
      "y_test.shape:  (43476,)\n"
     ]
    }
   ],
   "source": [
    "from sklearn.model_selection import train_test_split\n",
    "from sklearn.preprocessing import LabelEncoder\n",
    "\n",
    "# for a classificaiton problem, you need to provide both training & testing data\n",
    "X_train_data = train_data_BOW_features_500\n",
    "y_train_data = train_data_sample['emotion']\n",
    "\n",
    "le = LabelEncoder() # Label target\n",
    "y_train_le = le.fit_transform(y_train_data)\n",
    "\n",
    "# Split training and testing data for evaluation.\n",
    "X_train, X_test, y_train, y_test = train_test_split(X_train_data, y_train_le, test_size=0.3, random_state=42, stratify=y_train_le) \n",
    "\n",
    "#check dimension is a good habbit \n",
    "print('X_train.shape: ', X_train.shape)\n",
    "print('y_train.shape: ', y_train.shape)\n",
    "print('X_test.shape: ', X_test.shape)\n",
    "print('y_test.shape: ', y_test.shape)\n"
   ]
  },
  {
   "cell_type": "markdown",
   "id": "3d2bc54e",
   "metadata": {
    "papermill": {
     "duration": 0.01102,
     "end_time": "2024-12-08T13:52:17.050561",
     "exception": false,
     "start_time": "2024-12-08T13:52:17.039541",
     "status": "completed"
    },
    "tags": []
   },
   "source": [
    "### **Naive Bayes**"
   ]
  },
  {
   "cell_type": "code",
   "execution_count": 13,
   "id": "96e717a0",
   "metadata": {
    "execution": {
     "iopub.execute_input": "2024-12-08T13:52:17.070612Z",
     "iopub.status.busy": "2024-12-08T13:52:17.070215Z",
     "iopub.status.idle": "2024-12-08T13:52:17.130862Z",
     "shell.execute_reply": "2024-12-08T13:52:17.129269Z"
    },
    "papermill": {
     "duration": 0.073606,
     "end_time": "2024-12-08T13:52:17.134854",
     "exception": false,
     "start_time": "2024-12-08T13:52:17.061248",
     "status": "completed"
    },
    "tags": []
   },
   "outputs": [],
   "source": [
    "import pandas as pd\n",
    "from sklearn.model_selection import train_test_split\n",
    "from sklearn.feature_extraction.text import TfidfVectorizer\n",
    "from sklearn.naive_bayes import MultinomialNB\n",
    "from sklearn.metrics import confusion_matrix, classification_report, accuracy_score\n",
    "\n",
    "# 訓練 Naive Bayes 模型\n",
    "model = MultinomialNB()\n",
    "model.fit(X_train, y_train)\n",
    "\n",
    "# 預測測試集\n",
    "y_pred = model.predict(X_test)"
   ]
  },
  {
   "cell_type": "markdown",
   "id": "60204dac",
   "metadata": {
    "papermill": {
     "duration": 0.012575,
     "end_time": "2024-12-08T13:52:17.161322",
     "exception": false,
     "start_time": "2024-12-08T13:52:17.148747",
     "status": "completed"
    },
    "tags": []
   },
   "source": [
    "## **Results evaluation**"
   ]
  },
  {
   "cell_type": "code",
   "execution_count": 14,
   "id": "1e99ff99",
   "metadata": {
    "execution": {
     "iopub.execute_input": "2024-12-08T13:52:17.179252Z",
     "iopub.status.busy": "2024-12-08T13:52:17.178795Z",
     "iopub.status.idle": "2024-12-08T13:52:17.190358Z",
     "shell.execute_reply": "2024-12-08T13:52:17.189094Z"
    },
    "papermill": {
     "duration": 0.022883,
     "end_time": "2024-12-08T13:52:17.192592",
     "exception": false,
     "start_time": "2024-12-08T13:52:17.169709",
     "status": "completed"
    },
    "tags": []
   },
   "outputs": [
    {
     "data": {
      "text/plain": [
       "0.40928328273070197"
      ]
     },
     "execution_count": 14,
     "metadata": {},
     "output_type": "execute_result"
    }
   ],
   "source": [
    "from sklearn.metrics import accuracy_score\n",
    "accuracy_score(y_test, y_pred) # Evaluation"
   ]
  },
  {
   "cell_type": "markdown",
   "id": "0cb799f5",
   "metadata": {
    "papermill": {
     "duration": 0.007196,
     "end_time": "2024-12-08T13:52:17.207566",
     "exception": false,
     "start_time": "2024-12-08T13:52:17.200370",
     "status": "completed"
    },
    "tags": []
   },
   "source": [
    "## **testing data**"
   ]
  },
  {
   "cell_type": "code",
   "execution_count": 15,
   "id": "3431cb22",
   "metadata": {
    "execution": {
     "iopub.execute_input": "2024-12-08T13:52:17.224497Z",
     "iopub.status.busy": "2024-12-08T13:52:17.224107Z",
     "iopub.status.idle": "2024-12-08T13:53:16.703610Z",
     "shell.execute_reply": "2024-12-08T13:53:16.702144Z"
    },
    "papermill": {
     "duration": 59.491742,
     "end_time": "2024-12-08T13:53:16.706770",
     "exception": false,
     "start_time": "2024-12-08T13:52:17.215028",
     "status": "completed"
    },
    "tags": []
   },
   "outputs": [],
   "source": [
    "# apply analyzer to training data\n",
    "test_data_BOW_features_500 = BOW_500.transform(processed_test['combined_text'])\n",
    "# for a classificaiton problem, you need to provide both training & testing data\n",
    "X_test_data = test_data_BOW_features_500\n",
    "# 預測測試集\n",
    "y_pred = model.predict(X_test_data)"
   ]
  },
  {
   "cell_type": "code",
   "execution_count": 16,
   "id": "bcf0941a",
   "metadata": {
    "execution": {
     "iopub.execute_input": "2024-12-08T13:53:16.724865Z",
     "iopub.status.busy": "2024-12-08T13:53:16.724423Z",
     "iopub.status.idle": "2024-12-08T13:53:16.748295Z",
     "shell.execute_reply": "2024-12-08T13:53:16.747054Z"
    },
    "papermill": {
     "duration": 0.036349,
     "end_time": "2024-12-08T13:53:16.751135",
     "exception": false,
     "start_time": "2024-12-08T13:53:16.714786",
     "status": "completed"
    },
    "tags": []
   },
   "outputs": [],
   "source": [
    "# Inverse predict labels back to adjective words\n",
    "y_pred_labels = le.inverse_transform(y_pred) "
   ]
  },
  {
   "cell_type": "markdown",
   "id": "a8632539",
   "metadata": {
    "papermill": {
     "duration": 0.007592,
     "end_time": "2024-12-08T13:53:16.766598",
     "exception": false,
     "start_time": "2024-12-08T13:53:16.759006",
     "status": "completed"
    },
    "tags": []
   },
   "source": [
    "## **Submission**"
   ]
  },
  {
   "cell_type": "code",
   "execution_count": 17,
   "id": "7357f110",
   "metadata": {
    "execution": {
     "iopub.execute_input": "2024-12-08T13:53:16.784230Z",
     "iopub.status.busy": "2024-12-08T13:53:16.783723Z",
     "iopub.status.idle": "2024-12-08T13:53:16.814403Z",
     "shell.execute_reply": "2024-12-08T13:53:16.813204Z"
    },
    "papermill": {
     "duration": 0.042787,
     "end_time": "2024-12-08T13:53:16.817176",
     "exception": false,
     "start_time": "2024-12-08T13:53:16.774389",
     "status": "completed"
    },
    "tags": []
   },
   "outputs": [],
   "source": [
    "submission = pd.DataFrame({\n",
    "    'id': processed_test['tweet_id'],\n",
    "    'emotion': y_pred_labels\n",
    "})"
   ]
  },
  {
   "cell_type": "code",
   "execution_count": 18,
   "id": "44984b33",
   "metadata": {
    "execution": {
     "iopub.execute_input": "2024-12-08T13:53:16.835094Z",
     "iopub.status.busy": "2024-12-08T13:53:16.834630Z",
     "iopub.status.idle": "2024-12-08T13:53:17.455370Z",
     "shell.execute_reply": "2024-12-08T13:53:17.454252Z"
    },
    "papermill": {
     "duration": 0.633445,
     "end_time": "2024-12-08T13:53:17.458407",
     "exception": false,
     "start_time": "2024-12-08T13:53:16.824962",
     "status": "completed"
    },
    "tags": []
   },
   "outputs": [],
   "source": [
    "submission.to_csv('/kaggle/working/submission.csv', index=False)"
   ]
  },
  {
   "cell_type": "code",
   "execution_count": 19,
   "id": "e247f1fe",
   "metadata": {
    "execution": {
     "iopub.execute_input": "2024-12-08T13:53:17.476274Z",
     "iopub.status.busy": "2024-12-08T13:53:17.475783Z",
     "iopub.status.idle": "2024-12-08T13:53:17.489151Z",
     "shell.execute_reply": "2024-12-08T13:53:17.487990Z"
    },
    "papermill": {
     "duration": 0.024791,
     "end_time": "2024-12-08T13:53:17.491327",
     "exception": false,
     "start_time": "2024-12-08T13:53:17.466536",
     "status": "completed"
    },
    "tags": []
   },
   "outputs": [
    {
     "data": {
      "text/html": [
       "<div>\n",
       "<style scoped>\n",
       "    .dataframe tbody tr th:only-of-type {\n",
       "        vertical-align: middle;\n",
       "    }\n",
       "\n",
       "    .dataframe tbody tr th {\n",
       "        vertical-align: top;\n",
       "    }\n",
       "\n",
       "    .dataframe thead th {\n",
       "        text-align: right;\n",
       "    }\n",
       "</style>\n",
       "<table border=\"1\" class=\"dataframe\">\n",
       "  <thead>\n",
       "    <tr style=\"text-align: right;\">\n",
       "      <th></th>\n",
       "      <th>id</th>\n",
       "      <th>emotion</th>\n",
       "    </tr>\n",
       "  </thead>\n",
       "  <tbody>\n",
       "    <tr>\n",
       "      <th>2</th>\n",
       "      <td>0x28b412</td>\n",
       "      <td>anticipation</td>\n",
       "    </tr>\n",
       "    <tr>\n",
       "      <th>4</th>\n",
       "      <td>0x2de201</td>\n",
       "      <td>anticipation</td>\n",
       "    </tr>\n",
       "    <tr>\n",
       "      <th>9</th>\n",
       "      <td>0x218443</td>\n",
       "      <td>sadness</td>\n",
       "    </tr>\n",
       "    <tr>\n",
       "      <th>30</th>\n",
       "      <td>0x2939d5</td>\n",
       "      <td>anticipation</td>\n",
       "    </tr>\n",
       "    <tr>\n",
       "      <th>33</th>\n",
       "      <td>0x26289a</td>\n",
       "      <td>anticipation</td>\n",
       "    </tr>\n",
       "    <tr>\n",
       "      <th>...</th>\n",
       "      <td>...</td>\n",
       "      <td>...</td>\n",
       "    </tr>\n",
       "    <tr>\n",
       "      <th>1867525</th>\n",
       "      <td>0x2913b4</td>\n",
       "      <td>joy</td>\n",
       "    </tr>\n",
       "    <tr>\n",
       "      <th>1867529</th>\n",
       "      <td>0x2a980e</td>\n",
       "      <td>disgust</td>\n",
       "    </tr>\n",
       "    <tr>\n",
       "      <th>1867530</th>\n",
       "      <td>0x316b80</td>\n",
       "      <td>joy</td>\n",
       "    </tr>\n",
       "    <tr>\n",
       "      <th>1867531</th>\n",
       "      <td>0x29d0cb</td>\n",
       "      <td>joy</td>\n",
       "    </tr>\n",
       "    <tr>\n",
       "      <th>1867532</th>\n",
       "      <td>0x2a6a4f</td>\n",
       "      <td>sadness</td>\n",
       "    </tr>\n",
       "  </tbody>\n",
       "</table>\n",
       "<p>411972 rows × 2 columns</p>\n",
       "</div>"
      ],
      "text/plain": [
       "               id       emotion\n",
       "2        0x28b412  anticipation\n",
       "4        0x2de201  anticipation\n",
       "9        0x218443       sadness\n",
       "30       0x2939d5  anticipation\n",
       "33       0x26289a  anticipation\n",
       "...           ...           ...\n",
       "1867525  0x2913b4           joy\n",
       "1867529  0x2a980e       disgust\n",
       "1867530  0x316b80           joy\n",
       "1867531  0x29d0cb           joy\n",
       "1867532  0x2a6a4f       sadness\n",
       "\n",
       "[411972 rows x 2 columns]"
      ]
     },
     "execution_count": 19,
     "metadata": {},
     "output_type": "execute_result"
    }
   ],
   "source": [
    "submission"
   ]
  }
 ],
 "metadata": {
  "kaggle": {
   "accelerator": "none",
   "dataSources": [
    {
     "databundleVersionId": 9912598,
     "sourceId": 87232,
     "sourceType": "competition"
    }
   ],
   "dockerImageVersionId": 30805,
   "isGpuEnabled": false,
   "isInternetEnabled": true,
   "language": "python",
   "sourceType": "notebook"
  },
  "kernelspec": {
   "display_name": "Python 3",
   "language": "python",
   "name": "python3"
  },
  "language_info": {
   "codemirror_mode": {
    "name": "ipython",
    "version": 3
   },
   "file_extension": ".py",
   "mimetype": "text/x-python",
   "name": "python",
   "nbconvert_exporter": "python",
   "pygments_lexer": "ipython3",
   "version": "3.10.14"
  },
  "papermill": {
   "default_parameters": {},
   "duration": 430.686134,
   "end_time": "2024-12-08T13:53:20.726188",
   "environment_variables": {},
   "exception": null,
   "input_path": "__notebook__.ipynb",
   "output_path": "__notebook__.ipynb",
   "parameters": {},
   "start_time": "2024-12-08T13:46:10.040054",
   "version": "2.6.0"
  }
 },
 "nbformat": 4,
 "nbformat_minor": 5
}
